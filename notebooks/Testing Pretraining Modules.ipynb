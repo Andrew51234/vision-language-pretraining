{
 "cells": [
  {
   "cell_type": "markdown",
   "id": "ea9cb8b5",
   "metadata": {},
   "source": [
    "## Import Libraries"
   ]
  },
  {
   "cell_type": "code",
   "execution_count": null,
   "id": "e417b3c4",
   "metadata": {
    "ExecuteTime": {
     "end_time": "2022-12-08T04:12:43.863618Z",
     "start_time": "2022-12-08T04:12:43.833942Z"
    }
   },
   "outputs": [],
   "source": [
    "%load_ext autoreload\n",
    "%autoreload 2\n",
    "from tqdm import tqdm\n",
    "from typing import List\n",
    "import pytorch_lightning as pl\n",
    "from omegaconf import DictConfig\n",
    "from pytorch_lightning import Callback, LightningDataModule, LightningModule, Trainer\n",
    "from pytorch_lightning.loggers import LightningLoggerBase\n",
    "import pyrootutils\n",
    "root = pyrootutils.setup_root(\n",
    "    search_from='/vol/aimspace/users/rohn/vlp/',\n",
    "    indicator=[\".git\", \"pyproject.toml\"],\n",
    "    pythonpath=True,\n",
    "    dotenv=True,\n",
    ")\n",
    "\n",
    "from src import utils"
   ]
  },
  {
   "cell_type": "markdown",
   "id": "d36408f1",
   "metadata": {
    "heading_collapsed": true
   },
   "source": [
    "## Load Hydra Config"
   ]
  },
  {
   "cell_type": "code",
   "execution_count": null,
   "id": "5162d91a",
   "metadata": {
    "ExecuteTime": {
     "end_time": "2022-12-08T02:00:40.798448Z",
     "start_time": "2022-12-08T02:00:40.344180Z"
    },
    "hidden": true
   },
   "outputs": [],
   "source": [
    "import hydra\n",
    "from hydra import initialize, compose\n",
    "from hydra.core.global_hydra import GlobalHydra\n",
    "from hydra.core.hydra_config import HydraConfig\n",
    "\n",
    "# Step 1: Clear existing Hydra state\n",
    "if GlobalHydra.instance().is_initialized():\n",
    "    GlobalHydra.instance().clear()\n",
    "\n",
    "from omegaconf import OmegaConf\n",
    "\n",
    "initialize(config_path=\"../configs\")\n",
    "cfg = compose(config_name=\"pretraining\",\n",
    "              return_hydra_config=True)\n",
    "\n",
    "HydraConfig.instance().set_config(cfg)  # Required for interpolation to work\n",
    "\n",
    "print(OmegaConf.to_yaml(cfg))"
   ]
  },
  {
   "cell_type": "markdown",
   "id": "cdf3d6e5",
   "metadata": {
    "heading_collapsed": true
   },
   "source": [
    "## Load all Lightning Modules"
   ]
  },
  {
   "cell_type": "code",
   "execution_count": null,
   "id": "0a7ee75e",
   "metadata": {
    "ExecuteTime": {
     "end_time": "2022-12-08T02:00:41.909094Z",
     "start_time": "2022-12-08T02:00:41.395398Z"
    },
    "hidden": true
   },
   "outputs": [],
   "source": [
    "print(OmegaConf.to_yaml(cfg.datamodule))\n",
    "datamodule: LightningDataModule = hydra.utils.instantiate(cfg.datamodule)"
   ]
  },
  {
   "cell_type": "code",
   "execution_count": null,
   "id": "a340c986",
   "metadata": {
    "ExecuteTime": {
     "end_time": "2022-12-08T02:00:44.584268Z",
     "start_time": "2022-12-08T02:00:41.910766Z"
    },
    "hidden": true
   },
   "outputs": [],
   "source": [
    "print(OmegaConf.to_yaml(cfg.model))\n",
    "model: LightningModule = hydra.utils.instantiate(cfg.model)"
   ]
  },
  {
   "cell_type": "code",
   "execution_count": null,
   "id": "6d0a168c",
   "metadata": {},
   "outputs": [],
   "source": [
    "# root set by pyrootutils\n",
    "!echo $PROJECT_ROOT"
   ]
  },
  {
   "cell_type": "code",
   "execution_count": null,
   "id": "621a0cc0",
   "metadata": {
    "ExecuteTime": {
     "end_time": "2022-12-08T02:06:49.810411Z",
     "start_time": "2022-12-08T02:06:49.734606Z"
    },
    "hidden": true
   },
   "outputs": [],
   "source": [
    "print(OmegaConf.to_yaml(cfg.callbacks))\n",
    "callbacks: List[Callback] = utils.instantiate_callbacks(cfg.callbacks)"
   ]
  },
  {
   "cell_type": "markdown",
   "id": "6ab97cd7",
   "metadata": {},
   "source": [
    "## Testing Data Module"
   ]
  },
  {
   "cell_type": "code",
   "execution_count": null,
   "id": "a2577da0",
   "metadata": {
    "ExecuteTime": {
     "end_time": "2022-12-08T02:00:46.302414Z",
     "start_time": "2022-12-08T02:00:44.586070Z"
    }
   },
   "outputs": [],
   "source": [
    "datamodule.setup('')"
   ]
  },
  {
   "cell_type": "code",
   "execution_count": null,
   "id": "0cb7a874",
   "metadata": {
    "ExecuteTime": {
     "end_time": "2022-12-08T02:00:46.333338Z",
     "start_time": "2022-12-08T02:00:46.304239Z"
    }
   },
   "outputs": [],
   "source": [
    "# print sized of train and val dataloaders\n",
    "print('total number of samples:', len(datamodule.train_dataloader().dataset) + len(datamodule.val_dataloader().dataset))\n",
    "print('train dataloader size:', len(datamodule.train_dataloader().dataset))\n",
    "print('val dataloader size:', len(datamodule.val_dataloader().dataset))"
   ]
  },
  {
   "cell_type": "code",
   "execution_count": null,
   "id": "2d9a26fb",
   "metadata": {
    "ExecuteTime": {
     "end_time": "2022-12-08T02:01:03.793785Z",
     "start_time": "2022-12-08T02:00:54.014861Z"
    }
   },
   "outputs": [],
   "source": [
    "for batch in tqdm(datamodule.train_dataloader()):\n",
    "    break"
   ]
  },
  {
   "cell_type": "code",
   "execution_count": null,
   "id": "cbd175f8",
   "metadata": {
    "ExecuteTime": {
     "end_time": "2022-12-08T02:01:20.225339Z",
     "start_time": "2022-12-08T02:01:20.195518Z"
    }
   },
   "outputs": [],
   "source": [
    "batch['image'].shape, batch['tokenized_data']['input_ids'].shape"
   ]
  },
  {
   "cell_type": "code",
   "execution_count": null,
   "id": "fdb584dc",
   "metadata": {
    "ExecuteTime": {
     "end_time": "2022-12-08T04:13:11.210777Z",
     "start_time": "2022-12-08T04:13:11.181545Z"
    }
   },
   "outputs": [],
   "source": [
    "len(datamodule.train_dataset) // 32"
   ]
  },
  {
   "cell_type": "code",
   "execution_count": null,
   "id": "05cbf2c6",
   "metadata": {
    "ExecuteTime": {
     "end_time": "2022-12-08T04:13:55.166541Z",
     "start_time": "2022-12-08T04:13:55.136689Z"
    },
    "scrolled": true
   },
   "outputs": [],
   "source": [
    "len(datamodule.train_dataloader()) + len(datamodule.val_dataloader())"
   ]
  },
  {
   "cell_type": "code",
   "execution_count": null,
   "id": "0eb8b467",
   "metadata": {
    "ExecuteTime": {
     "end_time": "2022-12-08T04:21:50.710705Z",
     "start_time": "2022-12-08T04:21:50.680853Z"
    }
   },
   "outputs": [],
   "source": [
    "11835 - 11271"
   ]
  },
  {
   "cell_type": "code",
   "execution_count": null,
   "id": "32be46ab",
   "metadata": {
    "ExecuteTime": {
     "end_time": "2022-12-08T04:14:24.529797Z",
     "start_time": "2022-12-08T04:14:24.500067Z"
    }
   },
   "outputs": [],
   "source": [
    "len(datamodule.val_dataloader())"
   ]
  },
  {
   "cell_type": "code",
   "execution_count": null,
   "id": "75cf4400",
   "metadata": {},
   "outputs": [],
   "source": []
  },
  {
   "cell_type": "markdown",
   "id": "a9fc3211",
   "metadata": {
    "heading_collapsed": true
   },
   "source": [
    "## Testing Model"
   ]
  },
  {
   "cell_type": "raw",
   "id": "fd9434c7",
   "metadata": {
    "ExecuteTime": {
     "end_time": "2022-12-08T01:58:56.772484Z",
     "start_time": "2022-12-08T01:58:56.742656Z"
    },
    "hidden": true
   },
   "source": [
    "batch['tokenized_data']['token_type_ids']"
   ]
  },
  {
   "cell_type": "code",
   "execution_count": null,
   "id": "28f71807",
   "metadata": {
    "ExecuteTime": {
     "end_time": "2022-12-08T02:01:49.897315Z",
     "start_time": "2022-12-08T02:01:49.025222Z"
    },
    "collapsed": true,
    "hidden": true
   },
   "outputs": [],
   "source": [
    "model.net.text_model.model(**batch['tokenized_data'])"
   ]
  },
  {
   "cell_type": "code",
   "execution_count": null,
   "id": "f685d5fe",
   "metadata": {
    "ExecuteTime": {
     "end_time": "2022-12-08T02:02:04.407781Z",
     "start_time": "2022-12-08T02:02:02.698582Z"
    },
    "hidden": true,
    "scrolled": true
   },
   "outputs": [],
   "source": [
    "v, u = model(batch)"
   ]
  },
  {
   "cell_type": "code",
   "execution_count": null,
   "id": "33b3275d",
   "metadata": {
    "ExecuteTime": {
     "end_time": "2022-12-08T02:02:06.359834Z",
     "start_time": "2022-12-08T02:02:06.328227Z"
    },
    "hidden": true
   },
   "outputs": [],
   "source": [
    "v.shape"
   ]
  },
  {
   "cell_type": "code",
   "execution_count": null,
   "id": "13eafc03",
   "metadata": {
    "ExecuteTime": {
     "end_time": "2022-12-08T02:02:09.587703Z",
     "start_time": "2022-12-08T02:02:09.557694Z"
    },
    "hidden": true
   },
   "outputs": [],
   "source": [
    "u.shape"
   ]
  },
  {
   "cell_type": "markdown",
   "id": "9de286af",
   "metadata": {
    "heading_collapsed": true
   },
   "source": [
    "## Testing Callbacks (Validating Config)"
   ]
  },
  {
   "cell_type": "code",
   "execution_count": null,
   "id": "0e02e025",
   "metadata": {
    "ExecuteTime": {
     "end_time": "2022-12-08T02:02:35.767353Z",
     "start_time": "2022-12-08T02:02:35.734709Z"
    },
    "hidden": true
   },
   "outputs": [],
   "source": [
    "print(OmegaConf.to_yaml(cfg.callbacks))"
   ]
  },
  {
   "cell_type": "markdown",
   "id": "576280ef",
   "metadata": {},
   "source": [
    "## Testing Paths"
   ]
  },
  {
   "cell_type": "markdown",
   "id": "7fe996cb",
   "metadata": {
    "heading_collapsed": true
   },
   "source": [
    "## Testing Trainer Fit"
   ]
  },
  {
   "cell_type": "code",
   "execution_count": null,
   "id": "1afa39af",
   "metadata": {
    "hidden": true
   },
   "outputs": [],
   "source": []
  },
  {
   "cell_type": "markdown",
   "id": "7d280692",
   "metadata": {},
   "source": [
    "## ...."
   ]
  }
 ],
 "metadata": {
  "kernelspec": {
   "display_name": "convirt_fed",
   "language": "python",
   "name": "python3"
  },
  "language_info": {
   "codemirror_mode": {
    "name": "ipython",
    "version": 3
   },
   "file_extension": ".py",
   "mimetype": "text/x-python",
   "name": "python",
   "nbconvert_exporter": "python",
   "pygments_lexer": "ipython3",
   "version": "3.7.16"
  }
 },
 "nbformat": 4,
 "nbformat_minor": 5
}
