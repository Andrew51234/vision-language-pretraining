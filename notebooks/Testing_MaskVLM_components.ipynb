{
 "cells": [
  {
   "cell_type": "markdown",
   "id": "ea9cb8b5",
   "metadata": {},
   "source": [
    "## Import Libraries"
   ]
  },
  {
   "cell_type": "code",
   "execution_count": 1,
   "id": "e417b3c4",
   "metadata": {
    "ExecuteTime": {
     "end_time": "2022-12-08T04:12:43.863618Z",
     "start_time": "2022-12-08T04:12:43.833942Z"
    }
   },
   "outputs": [],
   "source": [
    "%load_ext autoreload\n",
    "%autoreload 2\n",
    "from tqdm import tqdm\n",
    "from typing import List\n",
    "import pytorch_lightning as pl\n",
    "from omegaconf import DictConfig\n",
    "from pytorch_lightning import Callback, LightningDataModule, LightningModule, Trainer\n",
    "from pytorch_lightning.loggers import LightningLoggerBase\n",
    "import pyrootutils\n",
    "root = pyrootutils.setup_root(\n",
    "    search_from='/vol/aimspace/users/rohn/vlp/',\n",
    "    indicator=[\".git\", \"pyproject.toml\"],\n",
    "    pythonpath=True,\n",
    "    dotenv=True,\n",
    ")\n",
    "from matplotlib import pyplot as plt\n",
    "from src import utils"
   ]
  },
  {
   "cell_type": "markdown",
   "id": "d36408f1",
   "metadata": {
    "heading_collapsed": true
   },
   "source": [
    "## Load Hydra Config"
   ]
  },
  {
   "cell_type": "code",
   "execution_count": null,
   "id": "5162d91a",
   "metadata": {
    "ExecuteTime": {
     "end_time": "2022-12-08T02:00:40.798448Z",
     "start_time": "2022-12-08T02:00:40.344180Z"
    },
    "hidden": true
   },
   "outputs": [],
   "source": [
    "import hydra\n",
    "from hydra import initialize, compose\n",
    "from hydra.core.global_hydra import GlobalHydra\n",
    "from hydra.core.hydra_config import HydraConfig\n",
    "\n",
    "# Step 1: Clear existing Hydra state\n",
    "if GlobalHydra.instance().is_initialized():\n",
    "    GlobalHydra.instance().clear()\n",
    "\n",
    "from omegaconf import OmegaConf\n",
    "\n",
    "initialize(config_path=\"../configs\")\n",
    "cfg = compose(config_name=\"pretraining\",\n",
    "              overrides=[\"+experiment=maskvlm\"],\n",
    "              return_hydra_config=True)\n",
    "\n",
    "HydraConfig.instance().set_config(cfg)  # Required for interpolation to work\n",
    "\n",
    "# print(OmegaConf.to_yaml(cfg))"
   ]
  },
  {
   "cell_type": "markdown",
   "id": "9e8ac51a",
   "metadata": {},
   "source": [
    "## Initialize components"
   ]
  },
  {
   "cell_type": "code",
   "execution_count": null,
   "id": "fd0f0e82",
   "metadata": {},
   "outputs": [],
   "source": [
    "print(OmegaConf.to_yaml(cfg.datamodule))\n",
    "cfg.datamodule.train_val_split = [20, 20] # for testing\n",
    "datamodule: LightningDataModule = hydra.utils.instantiate(cfg.datamodule)\n",
    "datamodule.setup('fit')"
   ]
  },
  {
   "cell_type": "code",
   "execution_count": null,
   "id": "d5b5a8cd",
   "metadata": {},
   "outputs": [],
   "source": [
    "print(OmegaConf.to_yaml(cfg.model))\n",
    "model: LightningModule = hydra.utils.instantiate(cfg.model)"
   ]
  },
  {
   "cell_type": "code",
   "execution_count": null,
   "id": "9d0034d6",
   "metadata": {},
   "outputs": [],
   "source": [
    "print(OmegaConf.to_yaml(cfg.callbacks))\n",
    "callbacks: List[Callback] = utils.instantiate_callbacks(cfg.callbacks)"
   ]
  },
  {
   "cell_type": "code",
   "execution_count": null,
   "id": "2cd17efb",
   "metadata": {},
   "outputs": [],
   "source": [
    "print(OmegaConf.to_yaml(cfg.logger))\n",
    "# disable logging for now\n",
    "cfg.logger = None\n",
    "loggers: LightningLoggerBase = utils.instantiate_loggers(cfg.logger)"
   ]
  },
  {
   "cell_type": "code",
   "execution_count": null,
   "id": "e670969d",
   "metadata": {},
   "outputs": [],
   "source": [
    "print(OmegaConf.to_yaml(cfg.trainer))\n",
    "cfg.trainer.max_epochs = 1\n",
    "cfg.trainer.accelerator = 'cpu'\n",
    "trainer: Trainer = hydra.utils.instantiate(cfg.trainer, callbacks=callbacks, logger=loggers)"
   ]
  },
  {
   "cell_type": "markdown",
   "id": "ec65b803",
   "metadata": {},
   "source": [
    "## Testing Data Module"
   ]
  },
  {
   "cell_type": "code",
   "execution_count": null,
   "id": "2732d75c",
   "metadata": {},
   "outputs": [],
   "source": [
    "# print sized of train and val dataloaders\n",
    "print('total number of samples:', len(datamodule.train_dataloader().dataset) + len(datamodule.val_dataloader().dataset))\n",
    "print('train dataloader size:', len(datamodule.train_dataloader().dataset))\n",
    "print('val dataloader size:', len(datamodule.val_dataloader().dataset))"
   ]
  },
  {
   "cell_type": "code",
   "execution_count": 9,
   "id": "8786dd5f",
   "metadata": {},
   "outputs": [],
   "source": [
    "# for batch in tqdm(datamodule.train_dataloader()):\n",
    "#     break"
   ]
  },
  {
   "cell_type": "code",
   "execution_count": null,
   "id": "cdbbfcf8",
   "metadata": {},
   "outputs": [],
   "source": [
    "# get one batch\n",
    "batch = next(iter(datamodule.train_dataloader()))\n",
    "print(batch.keys())"
   ]
  },
  {
   "cell_type": "code",
   "execution_count": 11,
   "id": "dc837eea",
   "metadata": {},
   "outputs": [],
   "source": [
    "# print some sentences and their masked versions\n",
    "# tokenizer = datamodule.train_dataset.subset.dataset.tokenizer\n",
    "# for i in range(5):\n",
    "#     # print the text\n",
    "#     n = batch['tokenized_data']['attention_mask'][i].sum().item()\n",
    "#     print(str(i) + ' #'*20)\n",
    "#     print(f\"Original: {tokenizer.decode(batch['tokenized_data']['input_ids'][i][:n])}\")\n",
    "#     print(f\"Masked: {tokenizer.decode(batch['masked_tokenized_data']['input_ids'][i][:n])}\")\n",
    "#     print(f'Mask: {batch[\"text_mask\"][i][:n]}')\n",
    "\n",
    "#     # show the images\n",
    "#     fig, axs = plt.subplots(1, 3, figsize=(15, 5))\n",
    "#     # set axis off\n",
    "#     for ax in axs:\n",
    "#         ax.axis('off')\n",
    "#     axs[0].imshow(batch['image'][i].permute(1, 2, 0))\n",
    "#     axs[0].set_title('Original')\n",
    "#     axs[1].imshow(batch['masked_img'][i].permute(1, 2, 0))\n",
    "#     axs[1].set_title('Masked')\n",
    "#     axs[2].imshow(batch['img_mask'][i].permute(1, 2, 0), cmap='gray')\n",
    "#     axs[2].set_title('Mask')\n",
    "#     plt.show()"
   ]
  },
  {
   "cell_type": "markdown",
   "id": "bb277537",
   "metadata": {},
   "source": [
    "## Testing Model"
   ]
  },
  {
   "cell_type": "code",
   "execution_count": 12,
   "id": "8e99dd21",
   "metadata": {},
   "outputs": [],
   "source": [
    "# txt_logits, reconstructed_img, z_img, z_txt, itm_labels, itm_gt = model.net(batch)"
   ]
  },
  {
   "cell_type": "markdown",
   "id": "3c58bf7d",
   "metadata": {},
   "source": [
    "## Testing Module"
   ]
  },
  {
   "cell_type": "code",
   "execution_count": 13,
   "id": "0b016a5d",
   "metadata": {},
   "outputs": [],
   "source": [
    "# model.validation_step(batch, 0)"
   ]
  },
  {
   "cell_type": "markdown",
   "id": "22efd486",
   "metadata": {},
   "source": [
    "## Testing Trainer"
   ]
  },
  {
   "cell_type": "code",
   "execution_count": null,
   "id": "7eab24d7",
   "metadata": {},
   "outputs": [],
   "source": [
    "trainer.fit(model, datamodule)"
   ]
  },
  {
   "cell_type": "code",
   "execution_count": null,
   "id": "a264906e",
   "metadata": {},
   "outputs": [],
   "source": []
  }
 ],
 "metadata": {
  "kernelspec": {
   "display_name": "convirt_fed",
   "language": "python",
   "name": "python3"
  },
  "language_info": {
   "codemirror_mode": {
    "name": "ipython",
    "version": 3
   },
   "file_extension": ".py",
   "mimetype": "text/x-python",
   "name": "python",
   "nbconvert_exporter": "python",
   "pygments_lexer": "ipython3",
   "version": "3.7.16"
  }
 },
 "nbformat": 4,
 "nbformat_minor": 5
}
